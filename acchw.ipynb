{
 "cells": [
  {
   "cell_type": "code",
   "execution_count": 1,
   "metadata": {},
   "outputs": [],
   "source": [
    "import pandas as pd"
   ]
  },
  {
   "cell_type": "code",
   "execution_count": 2,
   "metadata": {},
   "outputs": [],
   "source": [
    "file_path = \"/Users/ananyasai/Downloads/acc_players-2324F.csv\""
   ]
  },
  {
   "cell_type": "code",
   "execution_count": 9,
   "metadata": {},
   "outputs": [],
   "source": [
    "df = pd.read_csv(file_path, header=1)"
   ]
  },
  {
   "cell_type": "code",
   "execution_count": 10,
   "metadata": {},
   "outputs": [
    {
     "data": {
      "text/html": [
       "<div>\n",
       "<style scoped>\n",
       "    .dataframe tbody tr th:only-of-type {\n",
       "        vertical-align: middle;\n",
       "    }\n",
       "\n",
       "    .dataframe tbody tr th {\n",
       "        vertical-align: top;\n",
       "    }\n",
       "\n",
       "    .dataframe thead th {\n",
       "        text-align: right;\n",
       "    }\n",
       "</style>\n",
       "<table border=\"1\" class=\"dataframe\">\n",
       "  <thead>\n",
       "    <tr style=\"text-align: right;\">\n",
       "      <th></th>\n",
       "      <th>Rk</th>\n",
       "      <th>Player</th>\n",
       "      <th>Class</th>\n",
       "      <th>Pos</th>\n",
       "      <th>School</th>\n",
       "      <th>G</th>\n",
       "      <th>MP</th>\n",
       "      <th>TRB</th>\n",
       "      <th>AST</th>\n",
       "      <th>STL</th>\n",
       "      <th>...</th>\n",
       "      <th>TOV</th>\n",
       "      <th>PF</th>\n",
       "      <th>PTS</th>\n",
       "      <th>FG%</th>\n",
       "      <th>2P%</th>\n",
       "      <th>3P%</th>\n",
       "      <th>FT%</th>\n",
       "      <th>PER</th>\n",
       "      <th>WS</th>\n",
       "      <th>BPM</th>\n",
       "    </tr>\n",
       "  </thead>\n",
       "  <tbody>\n",
       "    <tr>\n",
       "      <th>0</th>\n",
       "      <td>1</td>\n",
       "      <td>Amaree Abram</td>\n",
       "      <td>SO</td>\n",
       "      <td>G</td>\n",
       "      <td>Georgia Tech</td>\n",
       "      <td>10</td>\n",
       "      <td>108</td>\n",
       "      <td>17</td>\n",
       "      <td>11</td>\n",
       "      <td>1</td>\n",
       "      <td>...</td>\n",
       "      <td>9</td>\n",
       "      <td>10</td>\n",
       "      <td>34</td>\n",
       "      <td>0.262</td>\n",
       "      <td>0.318</td>\n",
       "      <td>0.200</td>\n",
       "      <td>0.615</td>\n",
       "      <td>4.1</td>\n",
       "      <td>-0.1</td>\n",
       "      <td>-6.4</td>\n",
       "    </tr>\n",
       "    <tr>\n",
       "      <th>1</th>\n",
       "      <td>2</td>\n",
       "      <td>Sola Adebisi</td>\n",
       "      <td>FR</td>\n",
       "      <td>F</td>\n",
       "      <td>Florida State</td>\n",
       "      <td>7</td>\n",
       "      <td>9</td>\n",
       "      <td>1</td>\n",
       "      <td>1</td>\n",
       "      <td>0</td>\n",
       "      <td>...</td>\n",
       "      <td>1</td>\n",
       "      <td>1</td>\n",
       "      <td>2</td>\n",
       "      <td>0.500</td>\n",
       "      <td>0.500</td>\n",
       "      <td>NaN</td>\n",
       "      <td>NaN</td>\n",
       "      <td>3.5</td>\n",
       "      <td>0.0</td>\n",
       "      <td>-6.7</td>\n",
       "    </tr>\n",
       "    <tr>\n",
       "      <th>2</th>\n",
       "      <td>3</td>\n",
       "      <td>Prince Aligbe</td>\n",
       "      <td>SO</td>\n",
       "      <td>F</td>\n",
       "      <td>Boston College</td>\n",
       "      <td>35</td>\n",
       "      <td>651</td>\n",
       "      <td>119</td>\n",
       "      <td>21</td>\n",
       "      <td>15</td>\n",
       "      <td>...</td>\n",
       "      <td>30</td>\n",
       "      <td>51</td>\n",
       "      <td>164</td>\n",
       "      <td>0.435</td>\n",
       "      <td>0.522</td>\n",
       "      <td>0.147</td>\n",
       "      <td>0.620</td>\n",
       "      <td>9.4</td>\n",
       "      <td>0.9</td>\n",
       "      <td>-1.3</td>\n",
       "    </tr>\n",
       "    <tr>\n",
       "      <th>3</th>\n",
       "      <td>4</td>\n",
       "      <td>Abe Atiyeh</td>\n",
       "      <td>SR</td>\n",
       "      <td>G</td>\n",
       "      <td>Boston College</td>\n",
       "      <td>4</td>\n",
       "      <td>6</td>\n",
       "      <td>0</td>\n",
       "      <td>0</td>\n",
       "      <td>0</td>\n",
       "      <td>...</td>\n",
       "      <td>1</td>\n",
       "      <td>0</td>\n",
       "      <td>3</td>\n",
       "      <td>0.333</td>\n",
       "      <td>0.000</td>\n",
       "      <td>1.000</td>\n",
       "      <td>NaN</td>\n",
       "      <td>1.1</td>\n",
       "      <td>0.0</td>\n",
       "      <td>-8.2</td>\n",
       "    </tr>\n",
       "    <tr>\n",
       "      <th>4</th>\n",
       "      <td>5</td>\n",
       "      <td>Zack Austin</td>\n",
       "      <td>JR</td>\n",
       "      <td>F</td>\n",
       "      <td>Pittsburgh</td>\n",
       "      <td>33</td>\n",
       "      <td>746</td>\n",
       "      <td>137</td>\n",
       "      <td>29</td>\n",
       "      <td>32</td>\n",
       "      <td>...</td>\n",
       "      <td>13</td>\n",
       "      <td>35</td>\n",
       "      <td>216</td>\n",
       "      <td>0.417</td>\n",
       "      <td>0.563</td>\n",
       "      <td>0.295</td>\n",
       "      <td>0.737</td>\n",
       "      <td>18.0</td>\n",
       "      <td>2.9</td>\n",
       "      <td>7.9</td>\n",
       "    </tr>\n",
       "  </tbody>\n",
       "</table>\n",
       "<p>5 rows × 21 columns</p>\n",
       "</div>"
      ],
      "text/plain": [
       "   Rk         Player Class Pos          School   G   MP  TRB  AST  STL  ...  \\\n",
       "0   1   Amaree Abram    SO   G    Georgia Tech  10  108   17   11    1  ...   \n",
       "1   2   Sola Adebisi    FR   F   Florida State   7    9    1    1    0  ...   \n",
       "2   3  Prince Aligbe    SO   F  Boston College  35  651  119   21   15  ...   \n",
       "3   4     Abe Atiyeh    SR   G  Boston College   4    6    0    0    0  ...   \n",
       "4   5    Zack Austin    JR   F      Pittsburgh  33  746  137   29   32  ...   \n",
       "\n",
       "   TOV  PF  PTS    FG%    2P%    3P%    FT%   PER   WS  BPM  \n",
       "0    9  10   34  0.262  0.318  0.200  0.615   4.1 -0.1 -6.4  \n",
       "1    1   1    2  0.500  0.500    NaN    NaN   3.5  0.0 -6.7  \n",
       "2   30  51  164  0.435  0.522  0.147  0.620   9.4  0.9 -1.3  \n",
       "3    1   0    3  0.333  0.000  1.000    NaN   1.1  0.0 -8.2  \n",
       "4   13  35  216  0.417  0.563  0.295  0.737  18.0  2.9  7.9  \n",
       "\n",
       "[5 rows x 21 columns]"
      ]
     },
     "execution_count": 10,
     "metadata": {},
     "output_type": "execute_result"
    }
   ],
   "source": [
    "df.head()"
   ]
  },
  {
   "cell_type": "code",
   "execution_count": 11,
   "metadata": {},
   "outputs": [
    {
     "data": {
      "text/plain": [
       "['Rk',\n",
       " 'Player',\n",
       " 'Class',\n",
       " 'Pos',\n",
       " 'School',\n",
       " 'G',\n",
       " 'MP',\n",
       " 'TRB',\n",
       " 'AST',\n",
       " 'STL',\n",
       " 'BLK',\n",
       " 'TOV',\n",
       " 'PF',\n",
       " 'PTS',\n",
       " 'FG%',\n",
       " '2P%',\n",
       " '3P%',\n",
       " 'FT%',\n",
       " 'PER',\n",
       " 'WS',\n",
       " 'BPM']"
      ]
     },
     "execution_count": 11,
     "metadata": {},
     "output_type": "execute_result"
    }
   ],
   "source": [
    "df.columns.tolist()"
   ]
  },
  {
   "cell_type": "code",
   "execution_count": 13,
   "metadata": {},
   "outputs": [
    {
     "name": "stdout",
     "output_type": "stream",
     "text": [
      "38411\n"
     ]
    }
   ],
   "source": [
    "##total points scored by all players combined\n",
    "total_points = df['PTS'].sum()\n",
    "print(total_points)"
   ]
  },
  {
   "cell_type": "code",
   "execution_count": 27,
   "metadata": {},
   "outputs": [
    {
     "name": "stdout",
     "output_type": "stream",
     "text": [
      "Casey Morsell\n"
     ]
    }
   ],
   "source": [
    "most_minutes_player = df.loc[df['MP'].idxmax(), 'Player']\n",
    "print(most_minutes_player)"
   ]
  },
  {
   "cell_type": "code",
   "execution_count": 21,
   "metadata": {},
   "outputs": [
    {
     "name": "stdout",
     "output_type": "stream",
     "text": [
      "              Player  TRB\n",
      "5      Armando Bacot  380\n",
      "178  Ian Schieffelin  340\n",
      "90   Harrison Ingram  327\n",
      "44    Mohamed Diarra  311\n",
      "149    Norchad Omier  309\n"
     ]
    }
   ],
   "source": [
    "top_five_players = df[['Player','TRB']].sort_values(by='TRB', ascending=False).head(5)\n",
    "print(top_five_players )"
   ]
  },
  {
   "cell_type": "code",
   "execution_count": 23,
   "metadata": {},
   "outputs": [
    {
     "data": {
      "text/html": [
       "<div>\n",
       "<style scoped>\n",
       "    .dataframe tbody tr th:only-of-type {\n",
       "        vertical-align: middle;\n",
       "    }\n",
       "\n",
       "    .dataframe tbody tr th {\n",
       "        vertical-align: top;\n",
       "    }\n",
       "\n",
       "    .dataframe thead th {\n",
       "        text-align: right;\n",
       "    }\n",
       "</style>\n",
       "<table border=\"1\" class=\"dataframe\">\n",
       "  <thead>\n",
       "    <tr style=\"text-align: right;\">\n",
       "      <th></th>\n",
       "      <th>Rk</th>\n",
       "      <th>Player</th>\n",
       "      <th>Class</th>\n",
       "      <th>Pos</th>\n",
       "      <th>School</th>\n",
       "      <th>G</th>\n",
       "      <th>MP</th>\n",
       "      <th>TRB</th>\n",
       "      <th>AST</th>\n",
       "      <th>STL</th>\n",
       "      <th>...</th>\n",
       "      <th>TOV</th>\n",
       "      <th>PF</th>\n",
       "      <th>PTS</th>\n",
       "      <th>FG%</th>\n",
       "      <th>2P%</th>\n",
       "      <th>3P%</th>\n",
       "      <th>FT%</th>\n",
       "      <th>PER</th>\n",
       "      <th>WS</th>\n",
       "      <th>BPM</th>\n",
       "    </tr>\n",
       "  </thead>\n",
       "  <tbody>\n",
       "    <tr>\n",
       "      <th>2</th>\n",
       "      <td>3</td>\n",
       "      <td>Prince Aligbe</td>\n",
       "      <td>SO</td>\n",
       "      <td>F</td>\n",
       "      <td>Boston College</td>\n",
       "      <td>35</td>\n",
       "      <td>651</td>\n",
       "      <td>119</td>\n",
       "      <td>21</td>\n",
       "      <td>15</td>\n",
       "      <td>...</td>\n",
       "      <td>30</td>\n",
       "      <td>51</td>\n",
       "      <td>164</td>\n",
       "      <td>0.435</td>\n",
       "      <td>0.522</td>\n",
       "      <td>0.147</td>\n",
       "      <td>0.620</td>\n",
       "      <td>9.4</td>\n",
       "      <td>0.9</td>\n",
       "      <td>-1.3</td>\n",
       "    </tr>\n",
       "    <tr>\n",
       "      <th>4</th>\n",
       "      <td>5</td>\n",
       "      <td>Zack Austin</td>\n",
       "      <td>JR</td>\n",
       "      <td>F</td>\n",
       "      <td>Pittsburgh</td>\n",
       "      <td>33</td>\n",
       "      <td>746</td>\n",
       "      <td>137</td>\n",
       "      <td>29</td>\n",
       "      <td>32</td>\n",
       "      <td>...</td>\n",
       "      <td>13</td>\n",
       "      <td>35</td>\n",
       "      <td>216</td>\n",
       "      <td>0.417</td>\n",
       "      <td>0.563</td>\n",
       "      <td>0.295</td>\n",
       "      <td>0.737</td>\n",
       "      <td>18.0</td>\n",
       "      <td>2.9</td>\n",
       "      <td>7.9</td>\n",
       "    </tr>\n",
       "    <tr>\n",
       "      <th>5</th>\n",
       "      <td>6</td>\n",
       "      <td>Armando Bacot</td>\n",
       "      <td>SR</td>\n",
       "      <td>F</td>\n",
       "      <td>North Carolina</td>\n",
       "      <td>37</td>\n",
       "      <td>1123</td>\n",
       "      <td>380</td>\n",
       "      <td>56</td>\n",
       "      <td>22</td>\n",
       "      <td>...</td>\n",
       "      <td>60</td>\n",
       "      <td>100</td>\n",
       "      <td>538</td>\n",
       "      <td>0.540</td>\n",
       "      <td>0.544</td>\n",
       "      <td>0.400</td>\n",
       "      <td>0.781</td>\n",
       "      <td>24.6</td>\n",
       "      <td>6.1</td>\n",
       "      <td>8.9</td>\n",
       "    </tr>\n",
       "    <tr>\n",
       "      <th>7</th>\n",
       "      <td>8</td>\n",
       "      <td>Reece Beekman</td>\n",
       "      <td>SR</td>\n",
       "      <td>G</td>\n",
       "      <td>Virginia</td>\n",
       "      <td>34</td>\n",
       "      <td>1114</td>\n",
       "      <td>124</td>\n",
       "      <td>212</td>\n",
       "      <td>68</td>\n",
       "      <td>...</td>\n",
       "      <td>70</td>\n",
       "      <td>43</td>\n",
       "      <td>486</td>\n",
       "      <td>0.443</td>\n",
       "      <td>0.487</td>\n",
       "      <td>0.310</td>\n",
       "      <td>0.754</td>\n",
       "      <td>23.4</td>\n",
       "      <td>4.9</td>\n",
       "      <td>10.5</td>\n",
       "    </tr>\n",
       "    <tr>\n",
       "      <th>9</th>\n",
       "      <td>10</td>\n",
       "      <td>Chris Bell</td>\n",
       "      <td>SO</td>\n",
       "      <td>F</td>\n",
       "      <td>Syracuse</td>\n",
       "      <td>32</td>\n",
       "      <td>865</td>\n",
       "      <td>75</td>\n",
       "      <td>21</td>\n",
       "      <td>18</td>\n",
       "      <td>...</td>\n",
       "      <td>26</td>\n",
       "      <td>58</td>\n",
       "      <td>384</td>\n",
       "      <td>0.434</td>\n",
       "      <td>0.459</td>\n",
       "      <td>0.420</td>\n",
       "      <td>0.842</td>\n",
       "      <td>14.9</td>\n",
       "      <td>2.2</td>\n",
       "      <td>3.3</td>\n",
       "    </tr>\n",
       "  </tbody>\n",
       "</table>\n",
       "<p>5 rows × 21 columns</p>\n",
       "</div>"
      ],
      "text/plain": [
       "   Rk         Player Class Pos          School   G    MP  TRB  AST  STL  ...  \\\n",
       "2   3  Prince Aligbe    SO   F  Boston College  35   651  119   21   15  ...   \n",
       "4   5    Zack Austin    JR   F      Pittsburgh  33   746  137   29   32  ...   \n",
       "5   6  Armando Bacot    SR   F  North Carolina  37  1123  380   56   22  ...   \n",
       "7   8  Reece Beekman    SR   G        Virginia  34  1114  124  212   68  ...   \n",
       "9  10     Chris Bell    SO   F        Syracuse  32   865   75   21   18  ...   \n",
       "\n",
       "   TOV   PF  PTS    FG%    2P%    3P%    FT%   PER   WS   BPM  \n",
       "2   30   51  164  0.435  0.522  0.147  0.620   9.4  0.9  -1.3  \n",
       "4   13   35  216  0.417  0.563  0.295  0.737  18.0  2.9   7.9  \n",
       "5   60  100  538  0.540  0.544  0.400  0.781  24.6  6.1   8.9  \n",
       "7   70   43  486  0.443  0.487  0.310  0.754  23.4  4.9  10.5  \n",
       "9   26   58  384  0.434  0.459  0.420  0.842  14.9  2.2   3.3  \n",
       "\n",
       "[5 rows x 21 columns]"
      ]
     },
     "execution_count": 23,
     "metadata": {},
     "output_type": "execute_result"
    }
   ],
   "source": [
    "new_df = df[df['MP'] > 500]\n",
    "new_df.head()"
   ]
  },
  {
   "cell_type": "code",
   "execution_count": 26,
   "metadata": {},
   "outputs": [
    {
     "name": "stdout",
     "output_type": "stream",
     "text": [
      "Reece Beekman\n"
     ]
    }
   ],
   "source": [
    "top_ast = new_df.loc[new_df['AST'].idxmax(), 'Player']\n",
    "print(top_ast)"
   ]
  },
  {
   "cell_type": "code",
   "execution_count": 28,
   "metadata": {},
   "outputs": [
    {
     "name": "stdout",
     "output_type": "stream",
     "text": [
      "             Player  AST\n",
      "7     Reece Beekman  212\n",
      "215  Jaeden Zackery  152\n",
      "21    Elliot Cadeau  150\n"
     ]
    }
   ],
   "source": [
    "top_3_ast = new_df[['Player','AST']].sort_values(by='AST', ascending=False).head(3)\n",
    "print(top_3_ast )"
   ]
  },
  {
   "cell_type": "code",
   "execution_count": 29,
   "metadata": {},
   "outputs": [
    {
     "name": "stdout",
     "output_type": "stream",
     "text": [
      "            Player  BLK\n",
      "51       Ryan Dunn   77\n",
      "157   Quinten Post   61\n",
      "5    Armando Bacot   56\n"
     ]
    }
   ],
   "source": [
    "top_3_blk = new_df[['Player','BLK']].sort_values(by='BLK', ascending=False).head(3)\n",
    "print(top_3_blk)"
   ]
  },
  {
   "cell_type": "code",
   "execution_count": 30,
   "metadata": {},
   "outputs": [
    {
     "name": "stdout",
     "output_type": "stream",
     "text": [
      "            School   PTS\n",
      "0   Boston College  2667\n",
      "1          Clemson  2785\n",
      "2             Duke  2830\n",
      "3    Florida State  2526\n",
      "4     Georgia Tech  2272\n",
      "5       Louisville  2304\n",
      "6       Miami (FL)  2424\n",
      "7         NC State  3101\n",
      "8   North Carolina  3032\n",
      "9       Notre Dame  2113\n",
      "10      Pittsburgh  2495\n",
      "11        Syracuse  2442\n",
      "12        Virginia  2140\n",
      "13   Virginia Tech  2547\n",
      "14     Wake Forest  2733\n"
     ]
    }
   ],
   "source": [
    "points_by_school = df.groupby('School')['PTS'].sum().reset_index()\n",
    "print(points_by_school)"
   ]
  },
  {
   "cell_type": "code",
   "execution_count": 31,
   "metadata": {},
   "outputs": [
    {
     "name": "stdout",
     "output_type": "stream",
     "text": [
      "            School  AST\n",
      "0   Boston College  509\n",
      "1          Clemson  533\n",
      "2             Duke  551\n",
      "3    Florida State  406\n",
      "4     Georgia Tech  425\n",
      "5       Louisville  356\n",
      "6       Miami (FL)  454\n",
      "7         NC State  536\n",
      "8   North Carolina  536\n",
      "9       Notre Dame  335\n",
      "10      Pittsburgh  452\n",
      "11        Syracuse  442\n",
      "12        Virginia  509\n",
      "13   Virginia Tech  514\n",
      "14     Wake Forest  429\n"
     ]
    }
   ],
   "source": [
    "ast_by_school = df.groupby('School')['AST'].sum().reset_index()\n",
    "print(ast_by_school)"
   ]
  },
  {
   "cell_type": "code",
   "execution_count": 33,
   "metadata": {},
   "outputs": [
    {
     "name": "stdout",
     "output_type": "stream",
     "text": [
      "           School   PTS\n",
      "7        NC State  3101\n",
      "8  North Carolina  3032\n",
      "2            Duke  2830\n"
     ]
    }
   ],
   "source": [
    "top_3_schools = points_by_school.sort_values(by='PTS', ascending=False).head(3)\n",
    "print(top_3_schools)"
   ]
  },
  {
   "cell_type": "markdown",
   "metadata": {},
   "source": [
    "#What did you learn about working with CSV files and pandas DataFrames in this assignment?\n",
    "\n",
    "I already came in with some experience with working in CSV files and pandas DataFrames as I took the Foundations of Machine Learning class last Fall. That class was project based and we had a lot of hands-on learning in how to read in CSV files and how to utilize the pandas package. However, doing this assignment was a nice refresher on the said topics. Its been a year, and I took more classes that worked in R, so jumping back to learning how to subset indices a little differently in Python or leveraging unique packages like idxmax to help find the maximum value was very rewarding. Working with CSV files, a common format that data can be found in, and learning how to load them in is a very necessary skillset. Its not hard once you pick it up, but knowing how to utilize appropriate packages like pandas and specific methods like sort_values to aid in your data cleaning or EDA can help uncover useful findings about the data. Especially, knowing how to leverage functions like groupby, that can help you specifically look at data that you are interested in, can help you look at the smaller details that can be easily missed in large data files. Overall, this assignment exposed the practical importance of the data techniques and how they can be important in the real world."
   ]
  },
  {
   "cell_type": "markdown",
   "metadata": {},
   "source": [
    "#What was the most challenging aspect of this assignment, and how did you overcome it?\n",
    "\n",
    "I think the most challenging aspect of this assignment was fixing the column names for the dataframe. When I loaded in the data into VS Code, all of the column names on the top came in as unnamed. At first, that really shook me off guard and I thought that I did something wrong. I went back to our class materials, and I reaffirmed that I did load in the csv files in the right format. Then, I did df.head(), and I realized that the column names were placed in the first row, but it was just not being recognized when I loaded it in. I looked more into the pd.read_csv() function and looked at what other arguements it accepts for me to realize that I can use header = 1 to have the actual columns names be recognized as the column names. After that obstacle, I was able to more confidently move through the rest of the assignment."
   ]
  },
  {
   "cell_type": "markdown",
   "metadata": {},
   "source": [
    "#How do you think the insights gained from analyzing ACC basketball statistics could be applied to other real-world datasets?\n",
    "\n",
    "Many other real-world datasets can immediately benefit from the insights obtained by examining ACC basketball statistics, such as the use of tools like sort_values() for ranking and groupby() for segmentation. Similar methods, for instance, can be used by businesses to assess total sales across all of their branches and/or group consumer data based on demographics. Or, for example, such skillsets can be utilized by those working in the healthcare sector to examine critical health parameters and group patient data based on certain conditions such as blood type. These data manipulation techniques are extensively relevant across many industries (e.g., marketing, healthcare) and enable patterns, outliers, and performance metrics to be picked up and then appropriately be able to filter, sort, and aggregate such data."
   ]
  }
 ],
 "metadata": {
  "kernelspec": {
   "display_name": "base",
   "language": "python",
   "name": "python3"
  },
  "language_info": {
   "codemirror_mode": {
    "name": "ipython",
    "version": 3
   },
   "file_extension": ".py",
   "mimetype": "text/x-python",
   "name": "python",
   "nbconvert_exporter": "python",
   "pygments_lexer": "ipython3",
   "version": "3.12.2"
  }
 },
 "nbformat": 4,
 "nbformat_minor": 2
}
