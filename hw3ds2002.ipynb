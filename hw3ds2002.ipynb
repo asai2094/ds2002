{
 "cells": [
  {
   "cell_type": "code",
   "execution_count": 2,
   "metadata": {},
   "outputs": [
    {
     "name": "stdout",
     "output_type": "stream",
     "text": [
      "Requirement already satisfied: sqlalchemy in /opt/miniconda3/lib/python3.12/site-packages (2.0.31)\n",
      "Requirement already satisfied: typing-extensions>=4.6.0 in /opt/miniconda3/lib/python3.12/site-packages (from sqlalchemy) (4.12.2)\n",
      "Requirement already satisfied: greenlet!=0.4.17 in /opt/miniconda3/lib/python3.12/site-packages (from sqlalchemy) (3.0.3)\n"
     ]
    }
   ],
   "source": [
    "!pip install sqlalchemy"
   ]
  },
  {
   "cell_type": "code",
   "execution_count": 3,
   "metadata": {},
   "outputs": [],
   "source": [
    "import os\n",
    "import pymysql\n",
    "import mysql.connector\n",
    "from sqlalchemy import create_engine\n",
    "\n",
    "import pandas as pd\n",
    "import matplotlib.pyplot as plt"
   ]
  },
  {
   "cell_type": "code",
   "execution_count": 5,
   "metadata": {},
   "outputs": [],
   "source": [
    "import sqlite3\n",
    "\n",
    "connection = sqlite3.connect('student_grades.db')"
   ]
  },
  {
   "cell_type": "code",
   "execution_count": 6,
   "metadata": {},
   "outputs": [],
   "source": [
    "cursor = connection.cursor()"
   ]
  },
  {
   "cell_type": "code",
   "execution_count": 7,
   "metadata": {},
   "outputs": [
    {
     "data": {
      "text/plain": [
       "<sqlite3.Cursor at 0x10e843840>"
      ]
     },
     "execution_count": 7,
     "metadata": {},
     "output_type": "execute_result"
    }
   ],
   "source": [
    "cursor.execute('''\n",
    "CREATE TABLE IF NOT EXISTS students (\n",
    "    student_id INTEGER PRIMARY KEY AUTOINCREMENT,\n",
    "    first_name TEXT NOT NULL,\n",
    "    last_name TEXT NOT NULL\n",
    ")\n",
    "''')"
   ]
  },
  {
   "cell_type": "code",
   "execution_count": 8,
   "metadata": {},
   "outputs": [
    {
     "data": {
      "text/plain": [
       "<sqlite3.Cursor at 0x10e843840>"
      ]
     },
     "execution_count": 8,
     "metadata": {},
     "output_type": "execute_result"
    }
   ],
   "source": [
    "cursor.execute('''\n",
    "CREATE TABLE IF NOT EXISTS grades (\n",
    "    grade_id INTEGER PRIMARY KEY AUTOINCREMENT,\n",
    "    student_id INTEGER,\n",
    "    subject TEXT NOT NULL,\n",
    "    grade INTEGER,\n",
    "    FOREIGN KEY (student_id) REFERENCES students(student_id)\n",
    ")\n",
    "''')"
   ]
  },
  {
   "cell_type": "code",
   "execution_count": 9,
   "metadata": {},
   "outputs": [],
   "source": [
    "students_data = [\n",
    "    (1, \"Alice\", \"Johnson\"),\n",
    "    (2,\"Bob\", \"Smith\"),\n",
    "    (3,\"Carol\", \"White\"),\n",
    "    (4,\"David\",\"Brown\"),\n",
    "    (5,\"Eve\",\"Davis\")\n",
    "]\n",
    "cursor.executemany(''' INSERT INTO students (student_id,first_name,last_name) VALUES (?,?,?) ''', students_data)\n",
    "connection.commit()"
   ]
  },
  {
   "cell_type": "code",
   "execution_count": 12,
   "metadata": {},
   "outputs": [],
   "source": [
    "grades_data = [\n",
    "    (1,1,\"Math\",95),\n",
    "    (2,1,\"English\",88),\n",
    "    (3,1,\"History\",90),\n",
    "    (4,2,\"Math\",82),\n",
    "    (5,2,\"English\",76),\n",
    "    (6,2,\"History\",85),\n",
    "    (7,3,\"Math\",78),\n",
    "    (8,3,\"English\",90),\n",
    "    (9,3,\"History\",100),\n",
    "    (10,4,\"Math\",64),\n",
    "    (11,4,\"English\",45),\n",
    "    (12,4,\"History\",55),\n",
    "    (13,5,\"Math\",100),\n",
    "    (14,5,\"English\",98),\n",
    "    (15,5,\"History\",99)\n",
    "]\n",
    "cursor.executemany(''' INSERT INTO grades (grade_id,student_id,subject,grade) VALUES (?,?,?,?) ''', grades_data)\n",
    "connection.commit()"
   ]
  },
  {
   "cell_type": "code",
   "execution_count": 15,
   "metadata": {},
   "outputs": [
    {
     "name": "stdout",
     "output_type": "stream",
     "text": [
      "Students and grades: [('Alice', 'Johnson', 95), ('Alice', 'Johnson', 88), ('Alice', 'Johnson', 90), ('Bob', 'Smith', 82), ('Bob', 'Smith', 76), ('Bob', 'Smith', 85), ('Carol', 'White', 78), ('Carol', 'White', 90), ('Carol', 'White', 100), ('David', 'Brown', 64), ('David', 'Brown', 45), ('David', 'Brown', 55), ('Eve', 'Davis', 100), ('Eve', 'Davis', 98), ('Eve', 'Davis', 99)]\n"
     ]
    }
   ],
   "source": [
    "##Query 1\n",
    "cursor.execute('''SELECT students.first_name, students.last_name, grades.grade\n",
    "FROM students\n",
    "JOIN grades ON students.student_id = grades.student_id''')\n",
    "\n",
    "student_grade = cursor.fetchall()\n",
    "print(f\"Students and grades: {student_grade}\")\n",
    "\n"
   ]
  },
  {
   "cell_type": "code",
   "execution_count": 16,
   "metadata": {},
   "outputs": [
    {
     "name": "stdout",
     "output_type": "stream",
     "text": [
      "Average grade per student: [('Alice', 'Johnson', 91.0), ('Bob', 'Smith', 81.0), ('Carol', 'White', 89.33333333333333), ('David', 'Brown', 54.666666666666664), ('Eve', 'Davis', 99.0)]\n"
     ]
    }
   ],
   "source": [
    "## Query 2\n",
    "cursor.execute('''SELECT students.first_name, students.last_name, AVG(grades.grade) AS average_grade\n",
    "FROM students\n",
    "JOIN grades ON students.student_id = grades.student_id\n",
    "GROUP BY students.student_id''')\n",
    "\n",
    "avg_grade = cursor.fetchall()\n",
    "\n",
    "print(f\"Average grade per student: {avg_grade}\")"
   ]
  },
  {
   "cell_type": "code",
   "execution_count": 17,
   "metadata": {},
   "outputs": [
    {
     "name": "stdout",
     "output_type": "stream",
     "text": [
      "Highest Average Grade Student: [('Eve', 'Davis', 99.0)]\n"
     ]
    }
   ],
   "source": [
    "## Query 3\n",
    "cursor.execute('''SELECT students.first_name, students.last_name, AVG(grades.grade) AS average_grade\n",
    "FROM students\n",
    "JOIN grades ON students.student_id = grades.student_id\n",
    "GROUP BY students.student_id\n",
    "ORDER BY average_grade DESC\n",
    "LIMIT 1 ''')\n",
    "\n",
    "highest_student = cursor.fetchall()\n",
    "\n",
    "print(f\"Highest Average Grade Student: {highest_student}\")"
   ]
  },
  {
   "cell_type": "code",
   "execution_count": 18,
   "metadata": {},
   "outputs": [
    {
     "name": "stdout",
     "output_type": "stream",
     "text": [
      "Average grade for Math: [(83.8,)]\n"
     ]
    }
   ],
   "source": [
    "## Query 4\n",
    "cursor.execute('''SELECT AVG(grades.grade) AS average_math_grade\n",
    "FROM grades\n",
    "WHERE grades.subject = 'Math' ''')\n",
    "\n",
    "average_math = cursor.fetchall()\n",
    "\n",
    "print(f\"Average grade for Math: {average_math}\")"
   ]
  },
  {
   "cell_type": "code",
   "execution_count": 19,
   "metadata": {},
   "outputs": [
    {
     "name": "stdout",
     "output_type": "stream",
     "text": [
      "Students who scored above 90 in any subject: [('Alice', 'Johnson', 'Math', 95), ('Carol', 'White', 'History', 100), ('Eve', 'Davis', 'Math', 100), ('Eve', 'Davis', 'English', 98), ('Eve', 'Davis', 'History', 99)] \n"
     ]
    }
   ],
   "source": [
    "## Query 5\n",
    "cursor.execute('''SELECT students.first_name, students.last_name, grades.subject, grades.grade\n",
    "FROM students\n",
    "JOIN grades ON students.student_id = grades.student_id\n",
    "WHERE grades.grade > 90''')\n",
    "\n",
    "above_90 = cursor.fetchall()\n",
    "\n",
    "print(f\"Students who scored above 90 in any subject: {above_90} \")"
   ]
  },
  {
   "cell_type": "code",
   "execution_count": 21,
   "metadata": {},
   "outputs": [],
   "source": [
    "import pandas as pd\n",
    "students_df = pd.read_sql_query(\"SELECT * FROM students\", connection)\n",
    "grades_df = pd.read_sql_query(\"SELECT * FROM grades\", connection)"
   ]
  },
  {
   "cell_type": "code",
   "execution_count": 22,
   "metadata": {},
   "outputs": [
    {
     "data": {
      "text/html": [
       "<div>\n",
       "<style scoped>\n",
       "    .dataframe tbody tr th:only-of-type {\n",
       "        vertical-align: middle;\n",
       "    }\n",
       "\n",
       "    .dataframe tbody tr th {\n",
       "        vertical-align: top;\n",
       "    }\n",
       "\n",
       "    .dataframe thead th {\n",
       "        text-align: right;\n",
       "    }\n",
       "</style>\n",
       "<table border=\"1\" class=\"dataframe\">\n",
       "  <thead>\n",
       "    <tr style=\"text-align: right;\">\n",
       "      <th></th>\n",
       "      <th>student_id</th>\n",
       "      <th>first_name</th>\n",
       "      <th>last_name</th>\n",
       "    </tr>\n",
       "  </thead>\n",
       "  <tbody>\n",
       "    <tr>\n",
       "      <th>0</th>\n",
       "      <td>1</td>\n",
       "      <td>Alice</td>\n",
       "      <td>Johnson</td>\n",
       "    </tr>\n",
       "    <tr>\n",
       "      <th>1</th>\n",
       "      <td>2</td>\n",
       "      <td>Bob</td>\n",
       "      <td>Smith</td>\n",
       "    </tr>\n",
       "    <tr>\n",
       "      <th>2</th>\n",
       "      <td>3</td>\n",
       "      <td>Carol</td>\n",
       "      <td>White</td>\n",
       "    </tr>\n",
       "    <tr>\n",
       "      <th>3</th>\n",
       "      <td>4</td>\n",
       "      <td>David</td>\n",
       "      <td>Brown</td>\n",
       "    </tr>\n",
       "    <tr>\n",
       "      <th>4</th>\n",
       "      <td>5</td>\n",
       "      <td>Eve</td>\n",
       "      <td>Davis</td>\n",
       "    </tr>\n",
       "  </tbody>\n",
       "</table>\n",
       "</div>"
      ],
      "text/plain": [
       "   student_id first_name last_name\n",
       "0           1      Alice   Johnson\n",
       "1           2        Bob     Smith\n",
       "2           3      Carol     White\n",
       "3           4      David     Brown\n",
       "4           5        Eve     Davis"
      ]
     },
     "execution_count": 22,
     "metadata": {},
     "output_type": "execute_result"
    }
   ],
   "source": [
    "students_df.head()"
   ]
  },
  {
   "cell_type": "code",
   "execution_count": 23,
   "metadata": {},
   "outputs": [],
   "source": [
    "new_df = pd.read_sql_query('''\n",
    "    SELECT students.first_name, students.last_name, grades.subject, grades.grade\n",
    "    FROM students\n",
    "    JOIN grades ON students.student_id = grades.student_id\n",
    "''', connection)"
   ]
  },
  {
   "cell_type": "code",
   "execution_count": 24,
   "metadata": {},
   "outputs": [
    {
     "data": {
      "text/html": [
       "<div>\n",
       "<style scoped>\n",
       "    .dataframe tbody tr th:only-of-type {\n",
       "        vertical-align: middle;\n",
       "    }\n",
       "\n",
       "    .dataframe tbody tr th {\n",
       "        vertical-align: top;\n",
       "    }\n",
       "\n",
       "    .dataframe thead th {\n",
       "        text-align: right;\n",
       "    }\n",
       "</style>\n",
       "<table border=\"1\" class=\"dataframe\">\n",
       "  <thead>\n",
       "    <tr style=\"text-align: right;\">\n",
       "      <th></th>\n",
       "      <th>first_name</th>\n",
       "      <th>last_name</th>\n",
       "      <th>subject</th>\n",
       "      <th>grade</th>\n",
       "    </tr>\n",
       "  </thead>\n",
       "  <tbody>\n",
       "    <tr>\n",
       "      <th>0</th>\n",
       "      <td>Alice</td>\n",
       "      <td>Johnson</td>\n",
       "      <td>Math</td>\n",
       "      <td>95</td>\n",
       "    </tr>\n",
       "    <tr>\n",
       "      <th>1</th>\n",
       "      <td>Alice</td>\n",
       "      <td>Johnson</td>\n",
       "      <td>English</td>\n",
       "      <td>88</td>\n",
       "    </tr>\n",
       "    <tr>\n",
       "      <th>2</th>\n",
       "      <td>Alice</td>\n",
       "      <td>Johnson</td>\n",
       "      <td>History</td>\n",
       "      <td>90</td>\n",
       "    </tr>\n",
       "    <tr>\n",
       "      <th>3</th>\n",
       "      <td>Bob</td>\n",
       "      <td>Smith</td>\n",
       "      <td>Math</td>\n",
       "      <td>82</td>\n",
       "    </tr>\n",
       "    <tr>\n",
       "      <th>4</th>\n",
       "      <td>Bob</td>\n",
       "      <td>Smith</td>\n",
       "      <td>English</td>\n",
       "      <td>76</td>\n",
       "    </tr>\n",
       "  </tbody>\n",
       "</table>\n",
       "</div>"
      ],
      "text/plain": [
       "  first_name last_name  subject  grade\n",
       "0      Alice   Johnson     Math     95\n",
       "1      Alice   Johnson  English     88\n",
       "2      Alice   Johnson  History     90\n",
       "3        Bob     Smith     Math     82\n",
       "4        Bob     Smith  English     76"
      ]
     },
     "execution_count": 24,
     "metadata": {},
     "output_type": "execute_result"
    }
   ],
   "source": [
    "new_df.head()"
   ]
  },
  {
   "cell_type": "code",
   "execution_count": 26,
   "metadata": {},
   "outputs": [
    {
     "data": {
      "image/png": "[encoded data removed]",
      "text/plain": [
       "<Figure size 1000x600 with 1 Axes>"
      ]
     },
     "metadata": {},
     "output_type": "display_data"
    }
   ],
   "source": [
    "import matplotlib.pyplot as plt \n",
    "avg_grades = new_df.groupby(['first_name', 'last_name'])['grade'].mean().reset_index()\n",
    "\n",
    "avg_grades['full_name'] = avg_grades['first_name'] + ' ' + avg_grades['last_name']\n",
    "\n",
    "plt.figure(figsize=(10, 6))\n",
    "plt.bar(avg_grades['full_name'], avg_grades['grade'], color='skyblue')\n",
    "plt.xlabel('Student Name')\n",
    "plt.ylabel('Average Grade')\n",
    "plt.title('Average Grade per Student')\n",
    "\n",
    "plt.show()"
   ]
  },
  {
   "cell_type": "code",
   "execution_count": 29,
   "metadata": {},
   "outputs": [
    {
     "data": {
      "image/png": "[encoded data removed]",
      "text/plain": [
       "<Figure size 1000x600 with 1 Axes>"
      ]
     },
     "metadata": {},
     "output_type": "display_data"
    }
   ],
   "source": [
    "avg_grade_per_subject = new_df.groupby('subject')['grade'].mean()\n",
    "\n",
    "plt.figure(figsize=(10, 6))\n",
    "avg_grade_per_subject.plot(kind='bar', color='skyblue')\n",
    "plt.title('Average Grade for Each Subject')\n",
    "plt.xlabel('Subject')\n",
    "plt.ylabel('Average Grade') \n",
    "plt.show()"
   ]
  },
  {
   "cell_type": "code",
   "execution_count": 30,
   "metadata": {},
   "outputs": [],
   "source": [
    "connection.close()"
   ]
  }
 ],
 "metadata": {
  "kernelspec": {
   "display_name": "base",
   "language": "python",
   "name": "python3"
  },
  "language_info": {
   "codemirror_mode": {
    "name": "ipython",
    "version": 3
   },
   "file_extension": ".py",
   "mimetype": "text/x-python",
   "name": "python",
   "nbconvert_exporter": "python",
   "pygments_lexer": "ipython3",
   "version": "3.12.2"
  }
 },
 "nbformat": 4,
 "nbformat_minor": 2
}
