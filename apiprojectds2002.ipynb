{
 "cells": [
  {
   "cell_type": "code",
   "execution_count": 2,
   "metadata": {},
   "outputs": [],
   "source": [
    "import json\n",
    "import pandas as pd\n",
    "import requests"
   ]
  },
  {
   "cell_type": "code",
   "execution_count": 3,
   "metadata": {},
   "outputs": [],
   "source": [
    "#get stock from the user\n",
    "stock=input()"
   ]
  },
  {
   "cell_type": "code",
   "execution_count": 4,
   "metadata": {},
   "outputs": [
    {
     "name": "stdout",
     "output_type": "stream",
     "text": [
      "The Stock we will research is:AAPL\n"
     ]
    }
   ],
   "source": [
    "print(\"The Stock we will research is:\" + stock)"
   ]
  },
  {
   "cell_type": "code",
   "execution_count": 1,
   "metadata": {},
   "outputs": [],
   "source": [
    "api_key = \"\""
   ]
  },
  {
   "cell_type": "code",
   "execution_count": 5,
   "metadata": {},
   "outputs": [
    {
     "name": "stdout",
     "output_type": "stream",
     "text": [
      "API request successful!\n",
      "{\"quoteResponse\":{\"result\":[{\"language\":\"en-US\",\"region\":\"US\",\"quoteType\":\"EQUITY\",\"typeDisp\":\"Equity\",\"quoteSourceName\":\"Nasdaq Real Time Price\",\"triggerable\":true,\"customPriceAlertConfidence\":\"HIGH\",\"currency\":\"USD\",\"regularMarketPrice\":227.725,\"postMarketChangePercent\":-0.127307,\"postMarketTime\":1727481596,\"postMarketPrice\":227.5,\"postMarketChange\":-0.289993,\"regularMarketChange\":0.20500183,\"regularMarketTime\":1727467204,\"regularMarketDayHigh\":229.52,\"regularMarketDayRange\":\"227.3 - 229.52\",\"regularMarketDayLow\":227.3,\"regularMarketVolume\":34025967,\"regularMarketPreviousClose\":227.52,\"bid\":227.59,\"ask\":240.09,\"bidSize\":5,\"askSize\":1,\"fullExchangeName\":\"NasdaqGS\",\"marketState\":\"CLOSED\",\"exchange\":\"NMS\",\"shortName\":\"Apple Inc.\",\"longName\":\"Apple Inc.\",\"messageBoardId\":\"finmb_24937\",\"exchangeTimezoneName\":\"America/New_York\",\"exchangeTimezoneShortName\":\"EDT\",\"gmtOffSetMilliseconds\":-14400000,\"market\":\"us_market\",\"esgPopulated\":false,\"regularMarketChangePercent\":0.09010277,\"financialCurrency\":\"USD\",\"regularMarketOpen\":228.43,\"averageDailyVolume3Month\":54814806,\"averageDailyVolume10Day\":76087390,\"fiftyTwoWeekLowChange\":63.645004,\"fiftyTwoWeekLowChangePercent\":0.38789007,\"fiftyTwoWeekRange\":\"164.08 - 237.23\",\"fiftyTwoWeekHighChange\":-9.50499,\"fiftyTwoWeekHighChangePercent\":-0.04006656,\"fiftyTwoWeekLow\":164.08,\"fiftyTwoWeekHigh\":237.23,\"fiftyTwoWeekChangePercent\":31.102158,\"dividendDate\":1723680000,\"earningsTimestamp\":1722544200,\"earningsTimestampStart\":1730372340,\"earningsTimestampEnd\":1730721600,\"earningsCallTimestampStart\":1722546000,\"earningsCallTimestampEnd\":1722546000,\"isEarningsDateEstimate\":true,\"trailingPE\":34.714176,\"hasPrePostMarketData\":true,\"firstTradeDateMilliseconds\":345479400000,\"priceHint\":2,\"trailingAnnualDividendRate\":0.97,\"dividendRate\":1.0,\"trailingAnnualDividendYield\":0.0042633615,\"dividendYield\":0.44,\"epsTrailingTwelveMonths\":6.56,\"epsForward\":7.48,\"epsCurrentYear\":6.7,\"priceEpsCurrentYear\":33.988808,\"sharesOutstanding\":15204100096,\"bookValue\":4.382,\"fiftyDayAverage\":222.0918,\"fiftyDayAverageChange\":5.633209,\"fiftyDayAverageChangePercent\":0.025364328,\"twoHundredDayAverage\":197.18105,\"twoHundredDayAverageChange\":30.54396,\"twoHundredDayAverageChangePercent\":0.15490313,\"marketCap\":3462353911808,\"forwardPE\":30.444519,\"priceToBook\":51.96828,\"sourceInterval\":15,\"exchangeDataDelayedBy\":0,\"averageAnalystRating\":\"2.0 - Buy\",\"tradeable\":false,\"cryptoTradeable\":false,\"displayName\":\"Apple\",\"symbol\":\"AAPL\"}],\"error\":null}}\n"
     ]
    }
   ],
   "source": [
    "url = \"https://yfapi.net/v6/finance/quote\"\n",
    "\n",
    "querystring = {\"symbols\":stock}\n",
    "\n",
    "headers = {\n",
    "    'x-api-key': api_key\n",
    "    }\n",
    "\n",
    "response = requests.request(\"GET\", url, headers=headers, params=querystring)\n",
    "\n",
    "if response.status_code == 200:\n",
    "    print(\"API request successful!\")\n",
    "else:\n",
    "    print(f\"Failed to retrieve data: {response.status_code}\")\n",
    "print(response.text)"
   ]
  },
  {
   "cell_type": "code",
   "execution_count": 6,
   "metadata": {},
   "outputs": [],
   "source": [
    "stock_json = response.json()\n",
    "result = stock_json['quoteResponse']['result'][0]\n",
    "\n",
    "ticker_name = result.get('symbol', 'N/A')\n",
    "full_name = result.get('longName', 'N/A')\n",
    "current_price = result.get('regularMarketPrice', 'N/A')\n",
    "week_high_52 = result.get('fiftyTwoWeekHigh', 'N/A')\n",
    "week_low_52 = result.get('fiftyTwoWeekLow', 'N/A')"
   ]
  },
  {
   "cell_type": "code",
   "execution_count": 18,
   "metadata": {},
   "outputs": [
    {
     "name": "stdout",
     "output_type": "stream",
     "text": [
      "API request successful!\n",
      "{\"quoteSummary\":{\"result\":[{\"financialData\":{\"maxAge\":86400,\"currentPrice\":{\"raw\":227.725,\"fmt\":\"227.73\"},\"targetHighPrice\":{\"raw\":300.0,\"fmt\":\"300.00\"},\"targetLowPrice\":{\"raw\":183.86,\"fmt\":\"183.86\"},\"targetMeanPrice\":{\"raw\":240.58,\"fmt\":\"240.58\"},\"targetMedianPrice\":{\"raw\":243.0,\"fmt\":\"243.00\"},\"recommendationMean\":{\"raw\":2.0,\"fmt\":\"2.00\"},\"recommendationKey\":\"buy\",\"numberOfAnalystOpinions\":{\"raw\":40,\"fmt\":\"40\",\"longFmt\":\"40\"},\"totalCash\":{\"raw\":61801000960,\"fmt\":\"61.8B\",\"longFmt\":\"61,801,000,960\"},\"totalCashPerShare\":{\"raw\":4.065,\"fmt\":\"4.07\"},\"ebitda\":{\"raw\":131781001216,\"fmt\":\"131.78B\",\"longFmt\":\"131,781,001,216\"},\"totalDebt\":{\"raw\":101304000512,\"fmt\":\"101.3B\",\"longFmt\":\"101,304,000,512\"},\"quickRatio\":{\"raw\":0.798,\"fmt\":\"0.80\"},\"currentRatio\":{\"raw\":0.953,\"fmt\":\"0.95\"},\"totalRevenue\":{\"raw\":385603010560,\"fmt\":\"385.6B\",\"longFmt\":\"385,603,010,560\"},\"debtToEquity\":{\"raw\":151.862,\"fmt\":\"151.86%\"},\"revenuePerShare\":{\"raw\":24.957,\"fmt\":\"24.96\"},\"returnOnAssets\":{\"raw\":0.22612,\"fmt\":\"22.61%\"},\"returnOnEquity\":{\"raw\":1.60583,\"fmt\":\"160.58%\"},\"grossProfits\":{},\"freeCashflow\":{\"raw\":86158123008,\"fmt\":\"86.16B\",\"longFmt\":\"86,158,123,008\"},\"operatingCashflow\":{\"raw\":113040998400,\"fmt\":\"113.04B\",\"longFmt\":\"113,040,998,400\"},\"earningsGrowth\":{\"raw\":0.111,\"fmt\":\"11.10%\"},\"revenueGrowth\":{\"raw\":0.049,\"fmt\":\"4.90%\"},\"grossMargins\":{\"raw\":0.45962003,\"fmt\":\"45.96%\"},\"ebitdaMargins\":{\"raw\":0.34175,\"fmt\":\"34.17%\"},\"operatingMargins\":{\"raw\":0.29556,\"fmt\":\"29.56%\"},\"profitMargins\":{\"raw\":0.26441,\"fmt\":\"26.44%\"},\"financialCurrency\":\"USD\"}}],\"error\":null}}\n"
     ]
    }
   ],
   "source": [
    "symbol = stock\n",
    "url = f\"https://yfapi.net/v11/finance/quoteSummary/{symbol}\"\n",
    "querystring = {\"modules\": \"financialData\"}\n",
    "headers = {\n",
    "    'x-api-key': api_key\n",
    "    }\n",
    "\n",
    "response = requests.request(\"GET\", url, headers=headers, params=querystring)\n",
    "\n",
    "if response.status_code == 200:\n",
    "    print(\"API request successful!\")\n",
    "else:\n",
    "    print(f\"Failed to retrieve data: {response.status_code}\")\n",
    "\n",
    "print(response.text)"
   ]
  },
  {
   "cell_type": "code",
   "execution_count": 19,
   "metadata": {},
   "outputs": [
    {
     "name": "stdout",
     "output_type": "stream",
     "text": [
      "240.58\n"
     ]
    }
   ],
   "source": [
    "tmp_json = response.json()\n",
    "target_mean_price = tmp_json.get('quoteSummary', {}).get('result', [])[0].get('financialData', {}).get('targetMeanPrice', {}).get('raw', 'N/A')\n",
    "print(target_mean_price)"
   ]
  },
  {
   "cell_type": "code",
   "execution_count": 25,
   "metadata": {},
   "outputs": [
    {
     "name": "stdout",
     "output_type": "stream",
     "text": [
      "Ticker Name: AAPL, Full Name: Apple Inc., Current Market Price: 227.725, Target Mean Price: 240.58, 52-Week High: 237.23, 52-Week Low: 164.08\n"
     ]
    }
   ],
   "source": [
    "print(f\"Ticker Name: {ticker_name}, Full Name: {full_name}, Current Market Price: {current_price}, Target Mean Price: {target_mean_price}, 52-Week High: {week_high_52}, 52-Week Low: {week_low_52}\")"
   ]
  },
  {
   "cell_type": "code",
   "execution_count": 20,
   "metadata": {},
   "outputs": [
    {
     "name": "stdout",
     "output_type": "stream",
     "text": [
      "API request successful!\n",
      "{\"finance\":{\"result\":[{\"count\":20,\"quotes\":[{\"symbol\":\"AMSC\"},{\"symbol\":\"PWR\"},{\"symbol\":\"SNAP\"},{\"symbol\":\"SOL-USD\"},{\"symbol\":\"GC=F\"},{\"symbol\":\"NQ=F\"},{\"symbol\":\"VRT\"},{\"symbol\":\"BBD\"},{\"symbol\":\"EME\"},{\"symbol\":\"CL=F\"},{\"symbol\":\"^N225\"},{\"symbol\":\"ES=F\"},{\"symbol\":\"9988.HK\"},{\"symbol\":\"^IXIC\"},{\"symbol\":\"ROKU\"},{\"symbol\":\"JPY=X\"},{\"symbol\":\"BTC-USD\"},{\"symbol\":\"BTC=F\"},{\"symbol\":\"SI=F\"},{\"symbol\":\"PATH\"}],\"jobTimestamp\":1727648593880,\"startInterval\":202409292100}],\"error\":null}}\n"
     ]
    }
   ],
   "source": [
    "url = \"https://yfapi.net/v1/finance/trending/US\"\n",
    "\n",
    "querystring = {\"region\":\"US\"}\n",
    "\n",
    "headers = {\n",
    "    'x-api-key': api_key\n",
    "    }\n",
    "\n",
    "response_trending = requests.get(url, headers=headers)\n",
    "\n",
    "if response.status_code == 200:\n",
    "    print(\"API request successful!\")\n",
    "else:\n",
    "    print(f\"Failed to retrieve data: {response.status_code}\")\n",
    "print(response_trending.text)"
   ]
  },
  {
   "cell_type": "code",
   "execution_count": 21,
   "metadata": {},
   "outputs": [
    {
     "name": "stdout",
     "output_type": "stream",
     "text": [
      "The top 5 trending values are:\n",
      "AMSC\n",
      "PWR\n",
      "SNAP\n",
      "SOL-USD\n",
      "GC=F\n"
     ]
    }
   ],
   "source": [
    "trending_json = response_trending.json()\n",
    "result_trending = trending_json.get('finance', {}).get('result', [])[0].get('quotes', [])\n",
    "top_five_trending = []\n",
    "print(\"The top 5 trending values are:\")\n",
    "for i in result_trending[0:5]:\n",
    "    top_five_trending.append(i.get('symbol'))\n",
    "    print(f\"{i.get('symbol', 'N/A')}\")"
   ]
  },
  {
   "cell_type": "code",
   "execution_count": 22,
   "metadata": {},
   "outputs": [
    {
     "data": {
      "text/html": [
       "<div>\n",
       "<style scoped>\n",
       "    .dataframe tbody tr th:only-of-type {\n",
       "        vertical-align: middle;\n",
       "    }\n",
       "\n",
       "    .dataframe tbody tr th {\n",
       "        vertical-align: top;\n",
       "    }\n",
       "\n",
       "    .dataframe thead th {\n",
       "        text-align: right;\n",
       "    }\n",
       "</style>\n",
       "<table border=\"1\" class=\"dataframe\">\n",
       "  <thead>\n",
       "    <tr style=\"text-align: right;\">\n",
       "      <th></th>\n",
       "      <th>Ticker Name</th>\n",
       "      <th>Full Name</th>\n",
       "      <th>Current Market Price</th>\n",
       "      <th>Target Mean Price</th>\n",
       "      <th>52-Week High</th>\n",
       "      <th>52-Week Low</th>\n",
       "      <th>Top 5 Trending</th>\n",
       "    </tr>\n",
       "  </thead>\n",
       "  <tbody>\n",
       "    <tr>\n",
       "      <th>0</th>\n",
       "      <td>AAPL</td>\n",
       "      <td>Apple Inc.</td>\n",
       "      <td>227.725</td>\n",
       "      <td>240.58</td>\n",
       "      <td>237.23</td>\n",
       "      <td>164.08</td>\n",
       "      <td>[AMSC, PWR, SNAP, SOL-USD, GC=F]</td>\n",
       "    </tr>\n",
       "  </tbody>\n",
       "</table>\n",
       "</div>"
      ],
      "text/plain": [
       "  Ticker Name   Full Name  Current Market Price  Target Mean Price  \\\n",
       "0        AAPL  Apple Inc.               227.725             240.58   \n",
       "\n",
       "   52-Week High  52-Week Low                    Top 5 Trending  \n",
       "0        237.23       164.08  [AMSC, PWR, SNAP, SOL-USD, GC=F]  "
      ]
     },
     "execution_count": 22,
     "metadata": {},
     "output_type": "execute_result"
    }
   ],
   "source": [
    "data = {\n",
    "    \"Ticker Name\": [ticker_name],\n",
    "    \"Full Name\": [full_name],\n",
    "    \"Current Market Price\": [current_price],\n",
    "    \"Target Mean Price\": [target_mean_price],\n",
    "    \"52-Week High\": [week_high_52],\n",
    "    \"52-Week Low\": [week_low_52],\n",
    "    \"Top 5 Trending\": [top_five_trending]\n",
    "}\n",
    "df = pd.DataFrame(data)\n",
    "df.head()"
   ]
  },
  {
   "cell_type": "code",
   "execution_count": 23,
   "metadata": {},
   "outputs": [],
   "source": [
    "df.to_csv('stock_data.csv', index=False)"
   ]
  },
  {
   "cell_type": "code",
   "execution_count": 24,
   "metadata": {},
   "outputs": [
    {
     "name": "stdout",
     "output_type": "stream",
     "text": [
      "  Ticker Name   Full Name  Current Market Price  Target Mean Price  \\\n",
      "0        AAPL  Apple Inc.               227.725             240.58   \n",
      "\n",
      "   52-Week High  52-Week Low                              Top 5 Trending  \n",
      "0        237.23       164.08  ['AMSC', 'PWR', 'SNAP', 'SOL-USD', 'GC=F']  \n"
     ]
    }
   ],
   "source": [
    "dff = pd.read_csv('stock_data.csv')\n",
    "print(dff.head())\n"
   ]
  }
 ],
 "metadata": {
  "kernelspec": {
   "display_name": "base",
   "language": "python",
   "name": "python3"
  },
  "language_info": {
   "codemirror_mode": {
    "name": "ipython",
    "version": 3
   },
   "file_extension": ".py",
   "mimetype": "text/x-python",
   "name": "python",
   "nbconvert_exporter": "python",
   "pygments_lexer": "ipython3",
   "version": "3.12.2"
  }
 },
 "nbformat": 4,
 "nbformat_minor": 2
}
